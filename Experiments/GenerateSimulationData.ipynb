{
 "cells": [
  {
   "cell_type": "code",
   "id": "initial_id",
   "metadata": {
    "collapsed": true,
    "vscode": {
     "languageId": "r"
    },
    "ExecuteTime": {
     "end_time": "2024-05-29T04:38:36.417455Z",
     "start_time": "2024-05-29T04:38:36.412284Z"
    }
   },
   "source": [
    "library(tidyverse)\n",
    "library(dyngen)\n",
    "library(anndata)"
   ],
   "outputs": [],
   "execution_count": 7
  },
  {
   "cell_type": "code",
   "id": "748102412f100131",
   "metadata": {
    "vscode": {
     "languageId": "r"
    },
    "ExecuteTime": {
     "end_time": "2024-05-29T04:38:36.435433Z",
     "start_time": "2024-05-29T04:38:36.418816Z"
    }
   },
   "source": [
    "backbone <- backbone_linear_simple()\n",
    "config <-\n",
    "  initialise_model(\n",
    "    backbone = backbone,\n",
    "    num_cells = 500,\n",
    "    num_tfs = nrow(backbone$module_info),\n",
    "    num_targets = 50,\n",
    "    num_hks = 50,\n",
    "    verbose = FALSE,\n",
    "    download_cache_dir = tools::R_user_dir(\"dyngen\", \"data\"),\n",
    ")"
   ],
   "outputs": [],
   "execution_count": 8
  },
  {
   "cell_type": "code",
   "id": "3d68ad3f",
   "metadata": {
    "vscode": {
     "languageId": "r"
    },
    "ExecuteTime": {
     "end_time": "2024-05-29T04:39:02.317829Z",
     "start_time": "2024-05-29T04:38:36.437115Z"
    }
   },
   "source": [
    "out <- generate_dataset(\n",
    "  config,\n",
    "  format = \"anndata\",\n",
    "  make_plots = TRUE\n",
    ")"
   ],
   "outputs": [
    {
     "name": "stdout",
     "output_type": "stream",
     "text": [
      "\n"
     ]
    },
    {
     "ename": "ERROR",
     "evalue": "Error in utils::download.file(url, destfile = file, quiet = !verbose): cannot open URL 'https://github.com/dynverse/dyngen/raw/data_files/zenodo_1443566_real_silver_placenta-trophoblast-differentiation_mca.rds'\n",
     "output_type": "error",
     "traceback": [
      "Error in utils::download.file(url, destfile = file, quiet = !verbose): cannot open URL 'https://github.com/dynverse/dyngen/raw/data_files/zenodo_1443566_real_silver_placenta-trophoblast-differentiation_mca.rds'\nTraceback:\n",
      "1. generate_dataset(config, format = \"anndata\", make_plots = TRUE)",
      "2. model %>% generate_tf_network() %>% generate_feature_network() %>% \n .     generate_kinetics() %>% generate_gold_standard() %>% generate_cells() %>% \n .     generate_experiment()",
      "3. generate_experiment(.)",
      "4. .generate_experiment_fetch_realcount(model)",
      "5. .download_cacheable_file(url = url, cache_dir = model$download_cache_dir, \n .     verbose = model$verbose)",
      "6. suppressWarnings(utils::download.file(url, destfile = file, quiet = !verbose))",
      "7. withCallingHandlers(expr, warning = function(w) if (inherits(w, \n .     classes)) tryInvokeRestart(\"muffleWarning\"))",
      "8. utils::download.file(url, destfile = file, quiet = !verbose)"
     ]
    }
   ],
   "execution_count": 9
  },
  {
   "cell_type": "code",
   "id": "5882f648",
   "metadata": {
    "vscode": {
     "languageId": "r"
    }
   },
   "source": [
    "linear_ad <- out$dataset\n",
    "#linear_ad$write_h5ad(\"./linear.h5ad\")\n",
    "print(out$plot)"
   ],
   "outputs": [],
   "execution_count": null
  },
  {
   "cell_type": "code",
   "id": "b37d5e95",
   "metadata": {
    "vscode": {
     "languageId": "r"
    }
   },
   "source": [
    "bifurbackbone <- backbone_bifurcating()\n",
    "bifurconfig <-\n",
    "  initialise_model(\n",
    "    backbone = backbone,\n",
    "    num_cells = 500,\n",
    "    num_tfs = nrow(backbone$module_info),\n",
    "    num_targets = 50,\n",
    "    num_hks = 50,\n",
    "    verbose = FALSE,\n",
    "    download_cache_dir = tools::R_user_dir(\"dyngen\", \"data\"),\n",
    ")\n",
    "bifurout <- generate_dataset(\n",
    "  bifurconfig,\n",
    "  format = \"anndata\",\n",
    "  make_plots = TRUE\n",
    ")"
   ],
   "outputs": [],
   "execution_count": null
  },
  {
   "cell_type": "code",
   "id": "3de05511",
   "metadata": {
    "vscode": {
     "languageId": "r"
    }
   },
   "source": [
    "bifur_ad <- bifurout$dataset\n",
    "#bifur_ad$write_h5ad(\"./bifurcation.h5ad\")\n",
    "print(bifurout$plot)"
   ],
   "outputs": [],
   "execution_count": null
  }
 ],
 "metadata": {
  "kernelspec": {
   "display_name": "R",
   "language": "R",
   "name": "ir"
  },
  "language_info": {
   "codemirror_mode": "r",
   "file_extension": ".r",
   "mimetype": "text/x-r-source",
   "name": "R",
   "pygments_lexer": "r",
   "version": "4.2.3"
  }
 },
 "nbformat": 4,
 "nbformat_minor": 5
}
