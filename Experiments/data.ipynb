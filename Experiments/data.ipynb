{
 "cells": [
  {
   "cell_type": "code",
   "id": "initial_id",
   "metadata": {
    "collapsed": true,
    "ExecuteTime": {
     "end_time": "2024-05-27T14:08:29.847974Z",
     "start_time": "2024-05-27T14:08:29.272881Z"
    }
   },
   "source": [
    "import anndata as ad\n",
    "import scanpy as sc"
   ],
   "outputs": [
    {
     "name": "stderr",
     "output_type": "stream",
     "text": [
      "/home/bili/Apps/Mamba/envs/cb/lib/python3.11/site-packages/scipy/__init__.py:155: UserWarning: A NumPy version >=1.18.5 and <1.26.0 is required for this version of SciPy (detected version 1.26.4\n",
      "  warnings.warn(f\"A NumPy version >={np_minversion} and <{np_maxversion}\"\n"
     ]
    }
   ],
   "execution_count": 1
  },
  {
   "metadata": {
    "ExecuteTime": {
     "end_time": "2024-05-27T14:09:15.020036Z",
     "start_time": "2024-05-27T14:09:09.902780Z"
    }
   },
   "cell_type": "code",
   "source": [
    "rna_data = ad.read_h5ad('../data/CD4_Tex_TCR_interg_RNA.h5ad')\n",
    "sc.pp.pca(rna_data,n_comps=30)\n",
    "sc.pp.neighbors(rna_data, n_neighbors=30, n_pcs=30)\n",
    "sc.tl.umap(rna_data)\n",
    "rna_data.write_h5ad('../dat/CD4RNA.h5ad')"
   ],
   "id": "1ff7126a7b7761d",
   "outputs": [],
   "execution_count": 3
  },
  {
   "metadata": {
    "ExecuteTime": {
     "end_time": "2024-05-27T14:09:32.540103Z",
     "start_time": "2024-05-27T14:09:27.352108Z"
    }
   },
   "cell_type": "code",
   "source": [
    "sct_data = ad.read_h5ad('../data/CD4_Tex_TCR_interg_SCT.h5ad')\n",
    "sc.pp.pca(sct_data,n_comps=30)\n",
    "sc.pp.neighbors(sct_data, n_neighbors=30, n_pcs=30)\n",
    "sc.tl.umap(sct_data)\n",
    "sct_data.write_h5ad('../data/CD4SCT.h5ad')"
   ],
   "id": "2bdf3a3b2672f210",
   "outputs": [],
   "execution_count": 4
  },
  {
   "metadata": {
    "ExecuteTime": {
     "end_time": "2024-05-27T14:15:08.147335Z",
     "start_time": "2024-05-27T14:15:08.128641Z"
    }
   },
   "cell_type": "code",
   "source": "linear_data = ad.read_h5ad('../data/linear.h5ad')",
   "id": "29150921565dea48",
   "outputs": [],
   "execution_count": 5
  }
 ],
 "metadata": {
  "kernelspec": {
   "display_name": "Python 3",
   "language": "python",
   "name": "python3"
  },
  "language_info": {
   "codemirror_mode": {
    "name": "ipython",
    "version": 2
   },
   "file_extension": ".py",
   "mimetype": "text/x-python",
   "name": "python",
   "nbconvert_exporter": "python",
   "pygments_lexer": "ipython2",
   "version": "2.7.6"
  }
 },
 "nbformat": 4,
 "nbformat_minor": 5
}
