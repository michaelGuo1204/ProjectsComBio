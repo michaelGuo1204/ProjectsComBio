{
 "cells": [
  {
   "cell_type": "code",
   "metadata": {
    "vscode": {
     "languageId": "r"
    },
    "ExecuteTime": {
     "end_time": "2024-05-27T14:06:15.854075Z",
     "start_time": "2024-05-27T14:06:12.632751Z"
    }
   },
   "source": [
    "library(Seurat)\n",
    "library(anndata)\n",
    "data <- readRDS(\"./CD4_Tex_TCR_interg.rds\")\n",
    "data\n",
    "Assays(data)\n"
   ],
   "outputs": [
    {
     "name": "stderr",
     "output_type": "stream",
     "text": [
      "Loading required package: SeuratObject\n",
      "\n",
      "Loading required package: sp\n",
      "\n",
      "\n",
      "Attaching package: ‘SeuratObject’\n",
      "\n",
      "\n",
      "The following objects are masked from ‘package:base’:\n",
      "\n",
      "    intersect, t\n",
      "\n",
      "\n",
      "\n",
      "Attaching package: ‘anndata’\n",
      "\n",
      "\n",
      "The following object is masked from ‘package:SeuratObject’:\n",
      "\n",
      "    Layers\n",
      "\n",
      "\n"
     ]
    },
    {
     "data": {
      "text/plain": [
       "An object of class Seurat \n",
       "32188 features across 3901 samples within 2 assays \n",
       "Active assay: SCT (16039 features, 2000 variable features)\n",
       " 3 layers present: counts, data, scale.data\n",
       " 1 other assay present: RNA\n",
       " 3 dimensional reductions calculated: pca, harmony, umap"
      ]
     },
     "metadata": {},
     "output_type": "display_data"
    },
    {
     "data": {
      "text/html": [
       "<style>\n",
       ".list-inline {list-style: none; margin:0; padding: 0}\n",
       ".list-inline>li {display: inline-block}\n",
       ".list-inline>li:not(:last-child)::after {content: \"\\00b7\"; padding: 0 .5ex}\n",
       "</style>\n",
       "<ol class=list-inline><li>'RNA'</li><li>'SCT'</li></ol>\n"
      ],
      "text/markdown": "1. 'RNA'\n2. 'SCT'\n\n\n",
      "text/latex": "\\begin{enumerate*}\n\\item 'RNA'\n\\item 'SCT'\n\\end{enumerate*}\n",
      "text/plain": [
       "[1] \"RNA\" \"SCT\""
      ]
     },
     "metadata": {},
     "output_type": "display_data"
    }
   ],
   "execution_count": 1
  },
  {
   "cell_type": "code",
   "metadata": {
    "vscode": {
     "languageId": "r"
    },
    "ExecuteTime": {
     "end_time": "2024-05-27T14:06:52.420708Z",
     "start_time": "2024-05-27T14:06:49.856370Z"
    }
   },
   "source": [
    "rna_ad <- AnnData(\n",
    "    X = t(LayerData(data,assay = 'RNA',layer = 'counts')),\n",
    "    obs = data[[]],\n",
    ")\n",
    "sct_ad <- AnnData(\n",
    "    X = t(LayerData(data,assay = 'SCT',layer = 'counts')),\n",
    "    obs = data[[]],\n",
    ")\n",
    "rna_ad$write_h5ad(\"CD4_Tex_TCR_interg_RNA.h5ad\")\n",
    "sct_ad$write_h5ad(\"CD4_Tex_TCR_interg_SCT.h5ad\")"
   ],
   "outputs": [
    {
     "data": {
      "text/plain": [
       "None"
      ]
     },
     "metadata": {},
     "output_type": "display_data"
    },
    {
     "data": {
      "text/plain": [
       "None"
      ]
     },
     "metadata": {},
     "output_type": "display_data"
    }
   ],
   "execution_count": 2
  }
 ],
 "metadata": {
  "kernelspec": {
   "display_name": "R",
   "language": "R",
   "name": "ir"
  },
  "language_info": {
   "codemirror_mode": "r",
   "file_extension": ".r",
   "mimetype": "text/x-r-source",
   "name": "R",
   "pygments_lexer": "r",
   "version": "4.2.3"
  }
 },
 "nbformat": 4,
 "nbformat_minor": 2
}
